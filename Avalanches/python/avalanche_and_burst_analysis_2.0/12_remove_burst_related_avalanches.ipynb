{
 "cells": [
  {
   "cell_type": "code",
   "execution_count": 1,
   "metadata": {},
   "outputs": [],
   "source": [
    "import pandas as pd\n",
    "from tqdm import tqdm_notebook as tqdm\n",
    "import numpy as np"
   ]
  },
  {
   "cell_type": "code",
   "execution_count": 2,
   "metadata": {},
   "outputs": [],
   "source": [
    "avals = pd.read_csv('/home/NETID/lundvm/data/tR_1.0--fE_0.90/allAvalanche.csv')\n",
    "bursts = pd.read_csv('/home/NETID/lundvm/data/tR_1.0--fE_0.90/allAvalBurst.csv')"
   ]
  },
  {
   "cell_type": "code",
   "execution_count": 3,
   "metadata": {},
   "outputs": [
    {
     "data": {
      "text/html": [
       "<div>\n",
       "<style scoped>\n",
       "    .dataframe tbody tr th:only-of-type {\n",
       "        vertical-align: middle;\n",
       "    }\n",
       "\n",
       "    .dataframe tbody tr th {\n",
       "        vertical-align: top;\n",
       "    }\n",
       "\n",
       "    .dataframe thead th {\n",
       "        text-align: right;\n",
       "    }\n",
       "</style>\n",
       "<table border=\"1\" class=\"dataframe\">\n",
       "  <thead>\n",
       "    <tr style=\"text-align: right;\">\n",
       "      <th></th>\n",
       "      <th>ID</th>\n",
       "      <th>StartRow</th>\n",
       "      <th>EndRow</th>\n",
       "      <th>StartT</th>\n",
       "      <th>EndT</th>\n",
       "      <th>Width</th>\n",
       "      <th>TotalSpikes</th>\n",
       "      <th>WithinBurst</th>\n",
       "    </tr>\n",
       "  </thead>\n",
       "  <tbody>\n",
       "    <tr>\n",
       "      <th>0</th>\n",
       "      <td>1</td>\n",
       "      <td>3</td>\n",
       "      <td>6</td>\n",
       "      <td>96709741</td>\n",
       "      <td>96709749</td>\n",
       "      <td>9</td>\n",
       "      <td>5</td>\n",
       "      <td>0</td>\n",
       "    </tr>\n",
       "    <tr>\n",
       "      <th>1</th>\n",
       "      <td>2</td>\n",
       "      <td>10</td>\n",
       "      <td>13</td>\n",
       "      <td>96709762</td>\n",
       "      <td>96709773</td>\n",
       "      <td>12</td>\n",
       "      <td>6</td>\n",
       "      <td>0</td>\n",
       "    </tr>\n",
       "    <tr>\n",
       "      <th>2</th>\n",
       "      <td>3</td>\n",
       "      <td>16</td>\n",
       "      <td>18</td>\n",
       "      <td>96709779</td>\n",
       "      <td>96709787</td>\n",
       "      <td>9</td>\n",
       "      <td>3</td>\n",
       "      <td>0</td>\n",
       "    </tr>\n",
       "    <tr>\n",
       "      <th>3</th>\n",
       "      <td>4</td>\n",
       "      <td>19</td>\n",
       "      <td>23</td>\n",
       "      <td>96709790</td>\n",
       "      <td>96709795</td>\n",
       "      <td>6</td>\n",
       "      <td>7</td>\n",
       "      <td>0</td>\n",
       "    </tr>\n",
       "    <tr>\n",
       "      <th>4</th>\n",
       "      <td>5</td>\n",
       "      <td>24</td>\n",
       "      <td>29</td>\n",
       "      <td>96709799</td>\n",
       "      <td>96709805</td>\n",
       "      <td>7</td>\n",
       "      <td>9</td>\n",
       "      <td>0</td>\n",
       "    </tr>\n",
       "  </tbody>\n",
       "</table>\n",
       "</div>"
      ],
      "text/plain": [
       "   ID  StartRow  EndRow    StartT      EndT  Width  TotalSpikes  WithinBurst\n",
       "0   1         3       6  96709741  96709749      9            5            0\n",
       "1   2        10      13  96709762  96709773     12            6            0\n",
       "2   3        16      18  96709779  96709787      9            3            0\n",
       "3   4        19      23  96709790  96709795      6            7            0\n",
       "4   5        24      29  96709799  96709805      7            9            0"
      ]
     },
     "execution_count": 3,
     "metadata": {},
     "output_type": "execute_result"
    }
   ],
   "source": [
    "avals['WithinBurst'] = 0\n",
    "avals.head()"
   ]
  },
  {
   "cell_type": "code",
   "execution_count": 4,
   "metadata": {},
   "outputs": [
    {
     "data": {
      "text/html": [
       "<div>\n",
       "<style scoped>\n",
       "    .dataframe tbody tr th:only-of-type {\n",
       "        vertical-align: middle;\n",
       "    }\n",
       "\n",
       "    .dataframe tbody tr th {\n",
       "        vertical-align: top;\n",
       "    }\n",
       "\n",
       "    .dataframe thead th {\n",
       "        text-align: right;\n",
       "    }\n",
       "</style>\n",
       "<table border=\"1\" class=\"dataframe\">\n",
       "  <thead>\n",
       "    <tr style=\"text-align: right;\">\n",
       "      <th></th>\n",
       "      <th>ID</th>\n",
       "      <th>StartRow</th>\n",
       "      <th>EndRow</th>\n",
       "      <th>StartT</th>\n",
       "      <th>EndT</th>\n",
       "      <th>Width</th>\n",
       "      <th>TotalSpikes</th>\n",
       "      <th>IBI</th>\n",
       "    </tr>\n",
       "  </thead>\n",
       "  <tbody>\n",
       "    <tr>\n",
       "      <th>0</th>\n",
       "      <td>1</td>\n",
       "      <td>898</td>\n",
       "      <td>4715</td>\n",
       "      <td>96710760</td>\n",
       "      <td>96714577</td>\n",
       "      <td>3818</td>\n",
       "      <td>36099</td>\n",
       "      <td>1051</td>\n",
       "    </tr>\n",
       "    <tr>\n",
       "      <th>1</th>\n",
       "      <td>2</td>\n",
       "      <td>6552</td>\n",
       "      <td>9146</td>\n",
       "      <td>97005292</td>\n",
       "      <td>97007886</td>\n",
       "      <td>2595</td>\n",
       "      <td>31500</td>\n",
       "      <td>290715</td>\n",
       "    </tr>\n",
       "    <tr>\n",
       "      <th>2</th>\n",
       "      <td>3</td>\n",
       "      <td>9627</td>\n",
       "      <td>11321</td>\n",
       "      <td>97103272</td>\n",
       "      <td>97104966</td>\n",
       "      <td>1695</td>\n",
       "      <td>32318</td>\n",
       "      <td>95386</td>\n",
       "    </tr>\n",
       "    <tr>\n",
       "      <th>3</th>\n",
       "      <td>4</td>\n",
       "      <td>12167</td>\n",
       "      <td>14682</td>\n",
       "      <td>97612380</td>\n",
       "      <td>97614895</td>\n",
       "      <td>2516</td>\n",
       "      <td>29529</td>\n",
       "      <td>507414</td>\n",
       "    </tr>\n",
       "    <tr>\n",
       "      <th>4</th>\n",
       "      <td>5</td>\n",
       "      <td>15314</td>\n",
       "      <td>17850</td>\n",
       "      <td>97871054</td>\n",
       "      <td>97873590</td>\n",
       "      <td>2537</td>\n",
       "      <td>31009</td>\n",
       "      <td>256159</td>\n",
       "    </tr>\n",
       "  </tbody>\n",
       "</table>\n",
       "</div>"
      ],
      "text/plain": [
       "   ID  StartRow  EndRow    StartT      EndT  Width  TotalSpikes     IBI\n",
       "0   1       898    4715  96710760  96714577   3818        36099    1051\n",
       "1   2      6552    9146  97005292  97007886   2595        31500  290715\n",
       "2   3      9627   11321  97103272  97104966   1695        32318   95386\n",
       "3   4     12167   14682  97612380  97614895   2516        29529  507414\n",
       "4   5     15314   17850  97871054  97873590   2537        31009  256159"
      ]
     },
     "execution_count": 4,
     "metadata": {},
     "output_type": "execute_result"
    }
   ],
   "source": [
    "bursts.head()"
   ]
  },
  {
   "cell_type": "code",
   "execution_count": null,
   "metadata": {},
   "outputs": [],
   "source": [
    "for index, row in tqdm(bursts.iterrows(), total=bursts.shape[0]):\n",
    "    burst_start_time = row['StartT']\n",
    "    burst_end_time = row['EndT']\n",
    "    avals.loc[(avals['StartT'] >= burst_end_time) & (avals['StartT'] <= burst_end_time + 1000), 'WithinBurst'] = 2\n",
    "    avals.loc[(avals['EndT'] <= burst_start_time) & (avals['EndT'] >= burst_start_time - 1000), 'WithinBurst'] = 1\n",
    "    avals.loc[(avals['EndT'] == burst_end_time) & (avals['StartT'] == burst_start_time), 'WithinBurst'] = 3"
   ]
  },
  {
   "cell_type": "code",
   "execution_count": null,
   "metadata": {},
   "outputs": [],
   "source": [
    "nonburst_avals_1000 = avals[avals['WithinBurst'] == 0]\n",
    "nonburst_avals_1000.shape"
   ]
  },
  {
   "cell_type": "code",
   "execution_count": 5,
   "metadata": {},
   "outputs": [
    {
     "data": {
      "application/vnd.jupyter.widget-view+json": {
       "model_id": "2e9e8c1212e146a887ddb71de75e053d",
       "version_major": 2,
       "version_minor": 0
      },
      "text/plain": [
       "HBox(children=(IntProgress(value=0, max=9729), HTML(value='')))"
      ]
     },
     "metadata": {},
     "output_type": "display_data"
    },
    {
     "name": "stdout",
     "output_type": "stream",
     "text": [
      "\n"
     ]
    }
   ],
   "source": [
    "avals['WithinBurst'] = 0\n",
    "for index, row in tqdm(bursts.iterrows(), total=bursts.shape[0]):\n",
    "    burst_start_time = row['StartT']\n",
    "    burst_end_time = row['EndT']\n",
    "    avals.loc[(avals['StartT'] >= burst_end_time) & (avals['StartT'] <= burst_end_time + 450), 'WithinBurst'] = 2\n",
    "    avals.loc[(avals['EndT'] <= burst_start_time) & (avals['EndT'] >= burst_start_time - 450), 'WithinBurst'] = 1\n",
    "    avals.loc[(avals['EndT'] == burst_end_time) & (avals['StartT'] == burst_start_time), 'WithinBurst'] = 3"
   ]
  },
  {
   "cell_type": "code",
   "execution_count": 6,
   "metadata": {},
   "outputs": [
    {
     "data": {
      "text/plain": [
       "(454, 8)"
      ]
     },
     "execution_count": 6,
     "metadata": {},
     "output_type": "execute_result"
    }
   ],
   "source": [
    "nonburst_avals_450 = avals[avals['WithinBurst'] == 0]\n",
    "nonburst_avals_450.shape"
   ]
  },
  {
   "cell_type": "code",
   "execution_count": null,
   "metadata": {},
   "outputs": [],
   "source": [
    "avals['WithinBurst'] = 0\n",
    "for index, row in tqdm(bursts.iterrows(), total=bursts.shape[0]):\n",
    "    burst_start_time = row['StartT']\n",
    "    burst_end_time = row['EndT']\n",
    "    avals.loc[(avals['StartT'] >= burst_end_time) & (avals['StartT'] <= burst_end_time + 1500), 'WithinBurst'] = 2\n",
    "    avals.loc[(avals['EndT'] <= burst_start_time) & (avals['EndT'] >= burst_start_time - 1500), 'WithinBurst'] = 1\n",
    "    avals.loc[(avals['EndT'] == burst_end_time) & (avals['StartT'] == burst_start_time), 'WithinBurst'] = 3"
   ]
  },
  {
   "cell_type": "code",
   "execution_count": null,
   "metadata": {},
   "outputs": [],
   "source": [
    "nonburst_avals_1500 = avals[avals['WithinBurst'] == 0]\n",
    "nonburst_avals_1500.shape"
   ]
  },
  {
   "cell_type": "code",
   "execution_count": null,
   "metadata": {},
   "outputs": [],
   "source": [
    "avals['WithinBurst'] = 0\n",
    "for index, row in tqdm(bursts.iterrows(), total=bursts.shape[0]):\n",
    "    burst_start_time = row['StartT']\n",
    "    burst_end_time = row['EndT']\n",
    "    avals.loc[(avals['EndT'] == burst_end_time) & (avals['StartT'] == burst_start_time), 'WithinBurst'] = 1"
   ]
  },
  {
   "cell_type": "code",
   "execution_count": null,
   "metadata": {},
   "outputs": [],
   "source": [
    "nonburst_avals_all = avals[avals['WithinBurst'] == 0]\n",
    "nonburst_avals_all.shape"
   ]
  }
 ],
 "metadata": {
  "kernelspec": {
   "display_name": "Python 3",
   "language": "python",
   "name": "python3"
  },
  "language_info": {
   "codemirror_mode": {
    "name": "ipython",
    "version": 3
   },
   "file_extension": ".py",
   "mimetype": "text/x-python",
   "name": "python",
   "nbconvert_exporter": "python",
   "pygments_lexer": "ipython3",
   "version": "3.7.1"
  }
 },
 "nbformat": 4,
 "nbformat_minor": 2
}
